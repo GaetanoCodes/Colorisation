{
 "cells": [
  {
   "cell_type": "code",
   "execution_count": 6,
   "metadata": {},
   "outputs": [],
   "source": [
    "from PIL import Image\n",
    "import numpy as np\n",
    "import torch\n",
    "image = np.array(Image.open(\"images/papillon.jpg\"))[:, :, 0]"
   ]
  },
  {
   "cell_type": "code",
   "execution_count": 7,
   "metadata": {},
   "outputs": [],
   "source": [
    "b, c, a = 2, 3, 4\n",
    "array_3d = np.random.rand(b, c, a)  # Replace with your actual 3D array\n",
    "B = np.random.rand(a)  # Replace with your actual array B\n",
    "\n",
    "# Calculate the argmax along the last axis\n",
    "argmax_indices = np.argmax(array_3d, axis=2)\n",
    "\n",
    "# Use the argmax indices to index array B\n",
    "result = B[argmax_indices]"
   ]
  },
  {
   "cell_type": "code",
   "execution_count": 13,
   "metadata": {},
   "outputs": [
    {
     "name": "stdout",
     "output_type": "stream",
     "text": [
      "tensor([[[0.1562, 0.1599, 0.8150, 0.8999],\n",
      "         [0.3549, 0.1043, 0.4945, 0.7514],\n",
      "         [0.9733, 0.5753, 0.8862, 0.9275]],\n",
      "\n",
      "        [[0.8535, 0.2175, 0.8547, 0.5632],\n",
      "         [0.8717, 0.8389, 0.1295, 0.7818],\n",
      "         [0.6565, 0.3257, 0.5736, 0.2949]]], dtype=torch.float64)\n"
     ]
    },
    {
     "data": {
      "text/plain": [
       "tensor([[[3, 2],\n",
       "         [3, 2],\n",
       "         [0, 3]],\n",
       "\n",
       "        [[2, 0],\n",
       "         [0, 1],\n",
       "         [0, 2]]])"
      ]
     },
     "execution_count": 13,
     "metadata": {},
     "output_type": "execute_result"
    }
   ],
   "source": [
    "a = torch.tensor(array_3d)\n",
    "print(a)\n",
    "b = torch.topk(a, dim = 2, k=2).indices\n",
    "b\n"
   ]
  },
  {
   "cell_type": "code",
   "execution_count": 14,
   "metadata": {},
   "outputs": [
    {
     "data": {
      "text/plain": [
       "tensor([[[0.8999, 0.8150],\n",
       "         [0.7514, 0.4945],\n",
       "         [0.9733, 0.9275]],\n",
       "\n",
       "        [[0.8547, 0.8535],\n",
       "         [0.8717, 0.8389],\n",
       "         [0.6565, 0.5736]]], dtype=torch.float64)"
      ]
     },
     "execution_count": 14,
     "metadata": {},
     "output_type": "execute_result"
    }
   ],
   "source": [
    "torch.gather(a,2,b)"
   ]
  },
  {
   "cell_type": "code",
   "execution_count": null,
   "metadata": {},
   "outputs": [],
   "source": []
  }
 ],
 "metadata": {
  "kernelspec": {
   "display_name": "Python 3",
   "language": "python",
   "name": "python3"
  },
  "language_info": {
   "codemirror_mode": {
    "name": "ipython",
    "version": 3
   },
   "file_extension": ".py",
   "mimetype": "text/x-python",
   "name": "python",
   "nbconvert_exporter": "python",
   "pygments_lexer": "ipython3",
   "version": "3.11.5"
  }
 },
 "nbformat": 4,
 "nbformat_minor": 2
}
