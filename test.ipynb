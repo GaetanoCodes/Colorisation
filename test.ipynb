{
 "cells": [
  {
   "cell_type": "code",
   "execution_count": 1,
   "metadata": {},
   "outputs": [],
   "source": [
    "from PIL import Image\n",
    "import numpy as np\n",
    "import torch\n",
    "# image = np.array(Image.open(\"images/papillon.jpg\"))[:, :, 0]"
   ]
  },
  {
   "cell_type": "code",
   "execution_count": 24,
   "metadata": {},
   "outputs": [
    {
     "name": "stdout",
     "output_type": "stream",
     "text": [
      "(2, 3)\n"
     ]
    }
   ],
   "source": [
    "b, c, a = 2, 3, 4\n",
    "array_3d = np.random.rand(b, c, a)  # Replace with your actual 3D array\n",
    "B = np.random.rand(a)  # Replace with your actual array B\n",
    "\n",
    "# Calculate the argmax along the last axis\n",
    "argmax_indices = np.argmax(array_3d, axis=2)\n",
    "\n",
    "# Use the argmax indices to index array B\n",
    "result = B[argmax_indices]\n",
    "print(result.shape)"
   ]
  },
  {
   "cell_type": "code",
   "execution_count": 3,
   "metadata": {},
   "outputs": [
    {
     "name": "stdout",
     "output_type": "stream",
     "text": [
      "tensor([[[0.5505, 0.1259, 0.3639, 0.3170],\n",
      "         [0.9960, 0.9304, 0.0917, 0.4544],\n",
      "         [0.7787, 0.4785, 0.0523, 0.0591]],\n",
      "\n",
      "        [[0.3035, 0.7395, 0.5960, 0.0260],\n",
      "         [0.1674, 0.9564, 0.5492, 0.9243],\n",
      "         [0.7693, 0.6037, 0.1186, 0.6774]]], dtype=torch.float64)\n"
     ]
    },
    {
     "data": {
      "text/plain": [
       "tensor([[[0, 2],\n",
       "         [0, 1],\n",
       "         [0, 1]],\n",
       "\n",
       "        [[1, 2],\n",
       "         [1, 3],\n",
       "         [0, 3]]])"
      ]
     },
     "execution_count": 3,
     "metadata": {},
     "output_type": "execute_result"
    }
   ],
   "source": [
    "a = torch.tensor(array_3d)\n",
    "print(a)\n",
    "b = torch.topk(a, dim = 2, k=2).indices\n",
    "b\n"
   ]
  },
  {
   "cell_type": "code",
   "execution_count": 4,
   "metadata": {},
   "outputs": [
    {
     "data": {
      "text/plain": [
       "tensor([[[0.5505, 0.3639],\n",
       "         [0.9960, 0.9304],\n",
       "         [0.7787, 0.4785]],\n",
       "\n",
       "        [[0.7395, 0.5960],\n",
       "         [0.9564, 0.9243],\n",
       "         [0.7693, 0.6774]]], dtype=torch.float64)"
      ]
     },
     "execution_count": 4,
     "metadata": {},
     "output_type": "execute_result"
    }
   ],
   "source": [
    "torch.gather(a,2,b)"
   ]
  },
  {
   "cell_type": "code",
   "execution_count": 76,
   "metadata": {},
   "outputs": [
    {
     "name": "stdout",
     "output_type": "stream",
     "text": [
      "torch.Size([313, 2])\n"
     ]
    },
    {
     "data": {
      "text/plain": [
       "tensor([[[[-2.6364, -2.6364, -2.6364,  ..., -2.6364,  0.8182,  0.8182]],\n",
       "\n",
       "         [[-2.6364, -2.6364,  0.8182,  ..., -2.6364, -2.6364, -2.6364]],\n",
       "\n",
       "         [[-2.6364, -2.6364, -2.6364,  ..., -2.6364, -2.6364, -2.6364]],\n",
       "\n",
       "         ...,\n",
       "\n",
       "         [[-2.6364, -2.6364, -2.6364,  ..., -2.6364, -2.6364, -2.6364]],\n",
       "\n",
       "         [[ 0.8182, -2.6364, -2.6364,  ..., -2.6364, -2.6364, -2.6364]],\n",
       "\n",
       "         [[-2.6364, -2.6364,  0.8182,  ..., -2.6364, -2.6364, -2.6364]]]])"
      ]
     },
     "execution_count": 76,
     "metadata": {},
     "output_type": "execute_result"
    }
   ],
   "source": [
    "from coef_chrominance import COEFS\n",
    "image = torch.randn(size=(1, 3, 64, 64))\n",
    "print(COEFS.shape)\n",
    "coefs_to_01 = 2 * COEFS - 1\n",
    "coefs_a = coefs_to_01[:, 0]\n",
    "coefs_b = coefs_to_01[:, 1]\n",
    "coefs_a = coefs_a[None,:,None,None]*torch.ones(1,313,64,64)\n",
    "ind_max_a = torch.argmax(torch.abs(coefs_a - image[0, 1, :]), dim=1)\n",
    "coefs_a.gather(1,ind_max_a.unsqueeze(2)).squeeze(2).shape\n",
    "# coefs_a[ind_max_a].shape\n",
    "# ind_max_b = torch.argmax(torch.abs(coefs_b - image[:, [2], :]), dim=1)\n",
    "# ind_max_a.shape\n",
    "# projected = image.clone()\n",
    "# print(ind_max_a.shape, coefs_a[ind_max_a].shape)\n",
    "# projected[:, [1], :, :] = coefs_a[ind_max_a[None,:]]\n",
    "# projected[:, [2], :, :] = coefs_b[ind_max_b]"
   ]
  },
  {
   "cell_type": "code",
   "execution_count": 11,
   "metadata": {},
   "outputs": [
    {
     "ename": "RuntimeError",
     "evalue": "[enforce fail at alloc_cpu.cpp:80] data. DefaultCPUAllocator: not enough memory: you tried to allocate 21005074432 bytes.",
     "output_type": "error",
     "traceback": [
      "\u001b[1;31m---------------------------------------------------------------------------\u001b[0m",
      "\u001b[1;31mRuntimeError\u001b[0m                              Traceback (most recent call last)",
      "\u001b[1;32mc:\\Users\\gaeta\\Documents\\GitCodes\\Colorisation\\test.ipynb Cell 6\u001b[0m line \u001b[0;36m1\n\u001b[1;32m----> <a href='vscode-notebook-cell:/c%3A/Users/gaeta/Documents/GitCodes/Colorisation/test.ipynb#W5sZmlsZQ%3D%3D?line=0'>1</a>\u001b[0m coefs_a\u001b[39m.\u001b[39;49mpermute((\u001b[39m0\u001b[39;49m,\u001b[39m2\u001b[39;49m,\u001b[39m3\u001b[39;49m,\u001b[39m1\u001b[39;49m))[ind_max_a]\n",
      "\u001b[1;31mRuntimeError\u001b[0m: [enforce fail at alloc_cpu.cpp:80] data. DefaultCPUAllocator: not enough memory: you tried to allocate 21005074432 bytes."
     ]
    }
   ],
   "source": [
    "coefs_a.permute((0,2,3,1))[ind_max_a]"
   ]
  },
  {
   "cell_type": "code",
   "execution_count": null,
   "metadata": {},
   "outputs": [],
   "source": []
  }
 ],
 "metadata": {
  "kernelspec": {
   "display_name": "Python 3",
   "language": "python",
   "name": "python3"
  },
  "language_info": {
   "codemirror_mode": {
    "name": "ipython",
    "version": 3
   },
   "file_extension": ".py",
   "mimetype": "text/x-python",
   "name": "python",
   "nbconvert_exporter": "python",
   "pygments_lexer": "ipython3",
   "version": "3.11.5"
  }
 },
 "nbformat": 4,
 "nbformat_minor": 2
}
